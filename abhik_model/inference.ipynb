{
 "cells": [
  {
   "cell_type": "code",
   "execution_count": 15,
   "metadata": {
    "metadata": {}
   },
   "outputs": [
    {
     "name": "stdout",
     "output_type": "stream",
     "text": [
      "Testing on: harvard.wav\n"
     ]
    }
   ],
   "source": [
    "import os, random, torch, torchaudio\n",
    "import numpy as np\n",
    "\n",
    "def pick_random_wav(data_root):\n",
    "    return 'harvard.wav'\n",
    "\n",
    "# Load config\n",
    "from train import load_cfg\n",
    "cfg = load_cfg()\n",
    "\n",
    "# Pick a random audio sample\n",
    "wav_path = pick_random_wav(cfg[\"data_root\"])\n",
    "if not wav_path:\n",
    "    raise RuntimeError(\"No .wav files found in dataset.\")\n",
    "print(f\"Testing on: {wav_path}\")\n",
    "\n",
    "# Load and preprocess audio\n",
    "wav, sr = torchaudio.load(wav_path)\n",
    "wav = torchaudio.functional.resample(wav, sr, cfg[\"sample_rate\"])\n",
    "wav = wav.mean(dim=0, keepdim=True)\n",
    "wav = wav / (wav.abs().max() + 1e-9)\n",
    "num_samples = int(cfg[\"sample_rate\"] * cfg[\"slice_seconds\"])\n",
    "if wav.shape[-1] >= num_samples:\n",
    "    wav = wav[:, :num_samples]\n",
    "else:\n",
    "    repeat = (num_samples + wav.shape[-1] - 1) // wav.shape[-1]\n",
    "    wav = wav.repeat(1, repeat)[:, :num_samples]\n",
    "wav = wav.cpu()"
   ]
  },
  {
   "cell_type": "code",
   "execution_count": 16,
   "metadata": {
    "metadata": {}
   },
   "outputs": [
    {
     "data": {
      "text/plain": [
       "BatDetector(\n",
       "  (features): Sequential(\n",
       "    (0): Conv1d(1, 16, kernel_size=(15,), stride=(1,), padding=(7,))\n",
       "    (1): ReLU()\n",
       "    (2): MaxPool1d(kernel_size=4, stride=4, padding=0, dilation=1, ceil_mode=False)\n",
       "    (3): Conv1d(16, 32, kernel_size=(15,), stride=(1,), padding=(7,))\n",
       "    (4): ReLU()\n",
       "    (5): MaxPool1d(kernel_size=4, stride=4, padding=0, dilation=1, ceil_mode=False)\n",
       "    (6): Conv1d(32, 64, kernel_size=(15,), stride=(1,), padding=(7,))\n",
       "    (7): ReLU()\n",
       "    (8): AdaptiveAvgPool1d(output_size=1)\n",
       "  )\n",
       "  (classifier): Sequential(\n",
       "    (0): Flatten(start_dim=1, end_dim=-1)\n",
       "    (1): Linear(in_features=64, out_features=1, bias=True)\n",
       "    (2): Sigmoid()\n",
       "  )\n",
       ")"
      ]
     },
     "execution_count": 16,
     "metadata": {},
     "output_type": "execute_result"
    }
   ],
   "source": [
    "import torch\n",
    "from models import MothEncoder, BatDetector\n",
    "\n",
    "device = \"cpu\"\n",
    "moth = MothEncoder(cfg[\"alpha\"]).to(device)\n",
    "bat = BatDetector().to(device)\n",
    "moth.load_state_dict(torch.load(os.path.join(cfg[\"exp_dir\"], \"moth_final.ckpt\"), map_location=device))\n",
    "bat.load_state_dict(torch.load(os.path.join(cfg[\"exp_dir\"], \"bat_final.ckpt\"), map_location=device))\n",
    "moth.eval(); bat.eval()"
   ]
  },
  {
   "cell_type": "code",
   "execution_count": null,
   "metadata": {
    "metadata": {}
   },
   "outputs": [
    {
     "name": "stdout",
     "output_type": "stream",
     "text": [
      "Playing original audio...\n"
     ]
    },
    {
     "name": "stderr",
     "output_type": "stream",
     "text": [
      "Input #0, wav, from '/var/folders/n0/jlkzrfxd5kjb58lgm7cyjy2w0000gn/T/tmph128istu.wav':\n",
      "  Duration: 00:00:02.00, bitrate: 256 kb/s\n",
      "  Stream #0:0: Audio: pcm_s16le ([1][0][0][0] / 0x0001), 16000 Hz, 1 channels, s16, 256 kb/s\n",
      "   1.92 M-A:  0.000 fd=   0 aq=    0KB vq=    0KB sq=    0B \r"
     ]
    },
    {
     "name": "stdout",
     "output_type": "stream",
     "text": [
      "\n"
     ]
    }
   ],
   "source": [
    "from pydub import AudioSegment\n",
    "from pydub.playback import play\n",
    "\n",
    "def tensor_to_wav(tensor, sample_rate, out_path):\n",
    "    arr = tensor.squeeze().cpu().numpy()\n",
    "    arr = np.int16(arr * 32767)\n",
    "    torchaudio.save(out_path, torch.from_numpy(arr).unsqueeze(0), sample_rate)\n",
    "    return out_path\n",
    "\n",
    "orig_path = \"original_temp.wav\"\n",
    "tensor_to_wav(wav, cfg[\"sample_rate\"], orig_path)\n",
    "print(\"Playing original audio...\")\n",
    "play(AudioSegment.from_wav(orig_path))"
   ]
  },
  {
   "cell_type": "code",
   "execution_count": 19,
   "metadata": {
    "metadata": {}
   },
   "outputs": [
    {
     "name": "stdout",
     "output_type": "stream",
     "text": [
      "Playing watermarked audio...\n"
     ]
    },
    {
     "name": "stderr",
     "output_type": "stream",
     "text": [
      "Input #0, wav, from '/var/folders/n0/jlkzrfxd5kjb58lgm7cyjy2w0000gn/T/tmp_3u1gduu.wav':\n",
      "  Duration: 00:00:02.00, bitrate: 256 kb/s\n",
      "  Stream #0:0: Audio: pcm_s16le ([1][0][0][0] / 0x0001), 16000 Hz, 1 channels, s16, 256 kb/s\n",
      "   1.91 M-A:  0.000 fd=   0 aq=    0KB vq=    0KB sq=    0B \r"
     ]
    },
    {
     "name": "stdout",
     "output_type": "stream",
     "text": [
      "\n"
     ]
    }
   ],
   "source": [
    "with torch.no_grad():\n",
    "    watermarked = moth(wav.unsqueeze(0)).squeeze(0)\n",
    "\n",
    "water_path = \"watermarked_temp.wav\"\n",
    "tensor_to_wav(watermarked, cfg[\"sample_rate\"], water_path)\n",
    "print(\"Playing watermarked audio...\")\n",
    "play(AudioSegment.from_wav(water_path))"
   ]
  },
  {
   "cell_type": "code",
   "execution_count": 20,
   "metadata": {
    "metadata": {}
   },
   "outputs": [
    {
     "name": "stdout",
     "output_type": "stream",
     "text": [
      "Original audio prediction: 0.000 (watermark: NO)\n",
      "Watermarked audio prediction: 0.993 (watermark: YES)\n"
     ]
    }
   ],
   "source": [
    "with torch.no_grad():\n",
    "    prob_orig = bat(wav.unsqueeze(0)).item()\n",
    "    prob_water = bat(watermarked.unsqueeze(0)).item()\n",
    "\n",
    "print(f\"Original audio prediction: {prob_orig:.3f} (watermark: {'YES' if prob_orig >= 0.5 else 'NO'})\")\n",
    "print(f\"Watermarked audio prediction: {prob_water:.3f} (watermark: {'YES' if prob_water >= 0.5 else 'NO'})\")"
   ]
  }
 ],
 "metadata": {
  "kernelspec": {
   "display_name": "Python 3",
   "language": "python",
   "name": "python3"
  },
  "language_info": {
   "codemirror_mode": {
    "name": "ipython",
    "version": 3
   },
   "file_extension": ".py",
   "mimetype": "text/x-python",
   "name": "python",
   "nbconvert_exporter": "python",
   "pygments_lexer": "ipython3",
   "version": "3.10.16"
  }
 },
 "nbformat": 4,
 "nbformat_minor": 2
}

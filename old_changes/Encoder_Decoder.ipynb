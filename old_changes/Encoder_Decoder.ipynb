{
  "cells": [
    {
      "cell_type": "code",
      "execution_count": 1,
      "metadata": {
        "colab": {
          "base_uri": "https://localhost:8080/"
        },
        "id": "MWb1KOvCdVC5",
        "metadata": {},
        "outputId": "bbaea714-965c-44cb-8e44-123f9194c253"
      },
      "outputs": [
        {
          "name": "stdout",
          "output_type": "stream",
          "text": [
            "Collecting pesq\n",
            "  Downloading pesq-0.0.4.tar.gz (38 kB)\n",
            "  Preparing metadata (setup.py) ... \u001b[?25ldone\n",
            "\u001b[?25hInstalling collected packages: pesq\n",
            "\u001b[33m  DEPRECATION: pesq is being installed using the legacy 'setup.py install' method, because it does not have a 'pyproject.toml' and the 'wheel' package is not installed. pip 23.1 will enforce this behaviour change. A possible replacement is to enable the '--use-pep517' option. Discussion can be found at https://github.com/pypa/pip/issues/8559\u001b[0m\u001b[33m\n",
            "\u001b[0m  Running setup.py install for pesq ... \u001b[?25ldone\n",
            "\u001b[?25hSuccessfully installed pesq-0.0.4\n",
            "\n",
            "\u001b[1m[\u001b[0m\u001b[34;49mnotice\u001b[0m\u001b[1;39;49m]\u001b[0m\u001b[39;49m A new release of pip is available: \u001b[0m\u001b[31;49m23.0.1\u001b[0m\u001b[39;49m -> \u001b[0m\u001b[32;49m25.0.1\u001b[0m\n",
            "\u001b[1m[\u001b[0m\u001b[34;49mnotice\u001b[0m\u001b[1;39;49m]\u001b[0m\u001b[39;49m To update, run: \u001b[0m\u001b[32;49mpip install --upgrade pip\u001b[0m\n"
          ]
        }
      ],
      "source": [
        "!pip install pesq"
      ]
    },
    {
      "cell_type": "code",
      "execution_count": 1,
      "metadata": {
        "id": "TxcmY4ZKdFCi",
        "metadata": {}
      },
      "outputs": [],
      "source": [
        "import torch\n",
        "import torch.nn as nn\n",
        "import torch.optim as optim\n",
        "from torch.utils.data import DataLoader, Dataset\n",
        "import numpy as np\n",
        "import pickle\n",
        "from pesq import pesq\n",
        "import librosa\n",
        "import os"
      ]
    },
    {
      "cell_type": "code",
      "execution_count": 2,
      "metadata": {
        "id": "2sxe8e5SroRn",
        "metadata": {}
      },
      "outputs": [],
      "source": [
        "# Encoder: Generates the watermark perturbation\n",
        "class Encoder(nn.Module):\n",
        "    def __init__(self, input_size):\n",
        "        super(Encoder, self).__init__()\n",
        "        self.fc1 = nn.Linear(input_size, 512)\n",
        "        self.fc2 = nn.Linear(512, input_size)\n",
        "\n",
        "    def forward(self, x):\n",
        "        x = torch.relu(self.fc1(x))\n",
        "        perturbation = torch.tanh(self.fc2(x)) * 0.01  # Scaled perturbation\n",
        "        return perturbation"
      ]
    },
    {
      "cell_type": "code",
      "execution_count": 3,
      "metadata": {
        "id": "DYfkROXlrubp",
        "metadata": {}
      },
      "outputs": [],
      "source": [
        "# Decoder: Detects the watermark\n",
        "class Decoder(nn.Module):\n",
        "    def __init__(self, input_size):\n",
        "        super(Decoder, self).__init__()\n",
        "        self.fc1 = nn.Linear(input_size, 512)\n",
        "        self.fc2 = nn.Linear(512, 1)\n",
        "\n",
        "    def forward(self, x):\n",
        "        x = torch.relu(self.fc1(x))\n",
        "        return torch.sigmoid(self.fc2(x))"
      ]
    },
    {
      "cell_type": "code",
      "execution_count": 4,
      "metadata": {
        "id": "RMWc-Rjsry5D",
        "metadata": {}
      },
      "outputs": [],
      "source": [
        "# Audio Dataset\n",
        "class AudioDataset(Dataset):\n",
        "    def __init__(self, audio_paths, max_length=96000):\n",
        "        self.audio_paths = audio_paths\n",
        "        self.max_length = max_length\n",
        "\n",
        "    def __len__(self):\n",
        "        return len(self.audio_paths)\n",
        "\n",
        "    def __getitem__(self, idx):\n",
        "        audio, sr = librosa.load(self.audio_paths[idx], sr=16000, mono=True)\n",
        "        audio = torch.from_numpy(audio).float()\n",
        "        original_length = len(audio)\n",
        "        if original_length < self.max_length:\n",
        "            audio = torch.nn.functional.pad(audio, (0, self.max_length - original_length))\n",
        "        else:\n",
        "            audio = audio[:self.max_length]\n",
        "        return audio, original_length"
      ]
    },
    {
      "cell_type": "code",
      "execution_count": 5,
      "metadata": {
        "id": "-ATiW0XIrzzd",
        "metadata": {}
      },
      "outputs": [],
      "source": [
        "# Training Loop\n",
        "def train(encoder, decoder, dataloader, device, num_epochs=10):\n",
        "    optimizer_enc = optim.Adam(encoder.parameters(), lr=0.001)\n",
        "    optimizer_dec = optim.Adam(decoder.parameters(), lr=0.001)\n",
        "    criterion = nn.BCELoss()\n",
        "\n",
        "    for epoch in range(num_epochs):\n",
        "        total_dec_loss = 0.0\n",
        "        total_enc_loss = 0.0\n",
        "        num_batches = 0\n",
        "\n",
        "        for audio, original_length in dataloader:\n",
        "            audio = audio.to(device)\n",
        "            batch_size = audio.size(0)\n",
        "            num_batches += 1\n",
        "\n",
        "            # Train Decoder\n",
        "            optimizer_dec.zero_grad()\n",
        "            pred_original = decoder(audio)  # Predict 0 for original audio\n",
        "            loss_original = criterion(pred_original, torch.zeros(batch_size, 1).to(device))\n",
        "            perturbation = encoder(audio)\n",
        "            watermarked = audio + perturbation\n",
        "            pred_watermarked = decoder(watermarked)  # Predict 1 for watermarked audio\n",
        "            loss_watermarked = criterion(pred_watermarked, torch.ones(batch_size, 1).to(device))\n",
        "            loss_dec = (loss_original + loss_watermarked) / 2\n",
        "            loss_dec.backward()\n",
        "            optimizer_dec.step()\n",
        "\n",
        "            # Train Encoder\n",
        "            optimizer_enc.zero_grad()\n",
        "            pred_watermarked = decoder(watermarked)\n",
        "            loss_detection = criterion(pred_watermarked, torch.ones(batch_size, 1).to(device))  # Ensure watermark is detectable\n",
        "            loss_perceptual = torch.mean(perturbation ** 2)  # Minimize distortion (MSE proxy for PESQ)\n",
        "            loss_enc = loss_detection + 0.1 * loss_perceptual  # Balance detection and quality\n",
        "            loss_enc.backward()\n",
        "            optimizer_enc.step()\n",
        "\n",
        "            total_dec_loss += loss_dec.item()\n",
        "            total_enc_loss += loss_enc.item()\n",
        "\n",
        "        avg_dec_loss = total_dec_loss / num_batches\n",
        "        avg_enc_loss = total_enc_loss / num_batches\n",
        "        print(f\"Epoch {epoch+1}/{num_epochs}: Decoder Loss: {avg_dec_loss:.4f}, Encoder Loss: {avg_enc_loss:.4f}\")"
      ]
    },
    {
      "cell_type": "code",
      "execution_count": 23,
      "metadata": {
        "colab": {
          "base_uri": "https://localhost:8080/"
        },
        "id": "lNB7NE2e5odD",
        "outputId": "b5f70bea-e83d-4ee1-89ec-ec10f189a2e5"
      },
      "outputs": [
        {
          "name": "stdout",
          "output_type": "stream",
          "text": [
            "Mounted at /content/drive\n"
          ]
        }
      ],
      "source": [
        "from google.colab import drive\n",
        "drive.mount('/content/drive')"
      ]
    },
    {
      "cell_type": "code",
      "execution_count": 24,
      "metadata": {
        "colab": {
          "base_uri": "https://localhost:8080/"
        },
        "id": "wunsvtid5Dim",
        "outputId": "b49f636e-8ba7-4ca6-8479-4b9b65a5ce1e"
      },
      "outputs": [
        {
          "name": "stdout",
          "output_type": "stream",
          "text": [
            "/content\n"
          ]
        }
      ],
      "source": [
        "!pwd"
      ]
    },
    {
      "cell_type": "code",
      "execution_count": 14,
      "metadata": {
        "colab": {
          "base_uri": "https://localhost:8080/"
        },
        "id": "Mpfb9Ymt5jAm",
        "metadata": {},
        "outputId": "a555bcd1-a6e9-47b2-bd6e-f37c38e226b4"
      },
      "outputs": [
        {
          "name": "stdout",
          "output_type": "stream",
          "text": [
            "DataSourcing.ipynb    projectproposal.md    \u001b[1m\u001b[36mvenv\u001b[m\u001b[m\n",
            "Encoder_Decoder.ipynb \u001b[1m\u001b[36msteganography-project\u001b[m\u001b[m\n",
            "ideas.md              test.ipynb\n"
          ]
        }
      ],
      "source": [
        "!ls"
      ]
    },
    {
      "cell_type": "code",
      "execution_count": 6,
      "metadata": {
        "id": "EYaqZa2ygO_R",
        "metadata": {}
      },
      "outputs": [],
      "source": [
        "path_lst = []\n",
        "audio_dir = f\"50_speakers_audio_data\"\n",
        "for folder in os.listdir(audio_dir):\n",
        "    folder_path = os.path.join(audio_dir, folder)\n",
        "    if os.path.isdir(folder_path):\n",
        "        for filename in os.listdir(folder_path):\n",
        "            if filename.endswith('.wav'):  # Ensure only audio files are included\n",
        "                audio_path = os.path.join(folder_path, filename)\n",
        "                path_lst.append(audio_path)"
      ]
    },
    {
      "cell_type": "code",
      "execution_count": 7,
      "metadata": {
        "id": "frrf64N_60Va",
        "metadata": {}
      },
      "outputs": [],
      "source": [
        "# Create Dataset and DataLoader\n",
        "dataset = AudioDataset(path_lst, max_length=96000)  # 6 seconds at 16kHz\n",
        "dataloader = DataLoader(dataset, batch_size=4, shuffle=True)  # Batch size increased for efficiency"
      ]
    },
    {
      "cell_type": "code",
      "execution_count": 9,
      "metadata": {
        "id": "R4LdLkFJ60RA",
        "metadata": {}
      },
      "outputs": [
        {
          "name": "stderr",
          "output_type": "stream",
          "text": [
            "[src/libmpg123/layer3.c:INT123_do_layer3():1776] error: part2_3_length (1632) too large for available bit count (1568)\n",
            "[src/libmpg123/layer3.c:INT123_do_layer3():1776] error: part2_3_length (1600) too large for available bit count (1568)\n",
            "[src/libmpg123/layer3.c:INT123_do_layer3():1776] error: part2_3_length (2144) too large for available bit count (1568)\n",
            "[src/libmpg123/layer3.c:INT123_do_layer3():1776] error: part2_3_length (2688) too large for available bit count (1568)\n",
            "[src/libmpg123/layer3.c:INT123_do_layer3():1776] error: part2_3_length (2720) too large for available bit count (1568)\n",
            "[src/libmpg123/layer3.c:INT123_do_layer3():1776] error: part2_3_length (1600) too large for available bit count (1568)\n",
            "[src/libmpg123/layer3.c:INT123_do_layer3():1776] error: part2_3_length (2112) too large for available bit count (1568)\n",
            "[src/libmpg123/layer3.c:INT123_do_layer3():1776] error: part2_3_length (1600) too large for available bit count (1568)\n",
            "[src/libmpg123/layer3.c:INT123_do_layer3():1776] error: part2_3_length (1696) too large for available bit count (1568)\n",
            "[src/libmpg123/layer3.c:INT123_do_layer3():1776] error: part2_3_length (1728) too large for available bit count (1568)\n",
            "[src/libmpg123/layer3.c:INT123_do_layer3():1776] error: part2_3_length (2176) too large for available bit count (1568)\n",
            "[src/libmpg123/layer3.c:INT123_do_layer3():1776] error: part2_3_length (1600) too large for available bit count (1568)\n",
            "[src/libmpg123/layer3.c:INT123_do_layer3():1776] error: part2_3_length (2016) too large for available bit count (1568)\n",
            "[src/libmpg123/layer3.c:INT123_do_layer3():1776] error: part2_3_length (1984) too large for available bit count (1560)\n",
            "[src/libmpg123/layer3.c:INT123_do_layer3():1776] error: part2_3_length (1600) too large for available bit count (1568)\n",
            "[src/libmpg123/layer3.c:INT123_do_layer3():1776] error: part2_3_length (1792) too large for available bit count (1560)\n",
            "[src/libmpg123/layer3.c:INT123_do_layer3():1776] error: part2_3_length (1600) too large for available bit count (1568)\n",
            "[src/libmpg123/layer3.c:INT123_do_layer3():1776] error: part2_3_length (1664) too large for available bit count (1568)\n",
            "[src/libmpg123/layer3.c:INT123_do_layer3():1776] error: part2_3_length (1632) too large for available bit count (1560)\n",
            "[src/libmpg123/layer3.c:INT123_do_layer3():1776] error: part2_3_length (1600) too large for available bit count (1568)\n",
            "[src/libmpg123/layer3.c:INT123_do_layer3():1776] error: part2_3_length (1664) too large for available bit count (1568)\n",
            "[src/libmpg123/layer3.c:INT123_do_layer3():1776] error: part2_3_length (2176) too large for available bit count (1568)\n",
            "[src/libmpg123/layer3.c:INT123_do_layer3():1776] error: part2_3_length (1792) too large for available bit count (1568)\n",
            "[src/libmpg123/layer3.c:INT123_do_layer3():1776] error: part2_3_length (2688) too large for available bit count (1568)\n",
            "[src/libmpg123/layer3.c:INT123_do_layer3():1776] error: part2_3_length (1728) too large for available bit count (1568)\n",
            "[src/libmpg123/layer3.c:INT123_do_layer3():1776] error: part2_3_length (1600) too large for available bit count (1568)\n",
            "[src/libmpg123/layer3.c:INT123_do_layer3():1776] error: part2_3_length (1600) too large for available bit count (1568)\n",
            "[src/libmpg123/layer3.c:INT123_do_layer3():1776] error: part2_3_length (1600) too large for available bit count (1568)\n",
            "[src/libmpg123/layer3.c:INT123_do_layer3():1776] error: part2_3_length (2656) too large for available bit count (1568)\n",
            "[src/libmpg123/layer3.c:INT123_do_layer3():1776] error: part2_3_length (1728) too large for available bit count (1560)\n",
            "[src/libmpg123/layer3.c:INT123_do_layer3():1776] error: part2_3_length (1632) too large for available bit count (1568)\n",
            "[src/libmpg123/layer3.c:INT123_do_layer3():1776] error: part2_3_length (1728) too large for available bit count (1568)\n",
            "[src/libmpg123/layer3.c:INT123_do_layer3():1776] error: part2_3_length (1792) too large for available bit count (1568)\n",
            "[src/libmpg123/layer3.c:INT123_do_layer3():1776] error: part2_3_length (1600) too large for available bit count (1568)\n",
            "[src/libmpg123/layer3.c:INT123_do_layer3():1776] error: part2_3_length (2752) too large for available bit count (1568)\n",
            "[src/libmpg123/layer3.c:INT123_do_layer3():1776] error: part2_3_length (1984) too large for available bit count (1568)\n",
            "[src/libmpg123/layer3.c:INT123_do_layer3():1776] error: part2_3_length (1824) too large for available bit count (1568)\n",
            "[src/libmpg123/layer3.c:INT123_do_layer3():1776] error: part2_3_length (1952) too large for available bit count (1568)\n",
            "[src/libmpg123/layer3.c:INT123_do_layer3():1776] error: part2_3_length (1664) too large for available bit count (1568)\n",
            "[src/libmpg123/layer3.c:INT123_do_layer3():1776] error: part2_3_length (1600) too large for available bit count (1568)\n",
            "[src/libmpg123/layer3.c:INT123_do_layer3():1776] error: part2_3_length (1600) too large for available bit count (1568)\n",
            "[src/libmpg123/layer3.c:INT123_do_layer3():1776] error: part2_3_length (2112) too large for available bit count (1568)\n",
            "[src/libmpg123/layer3.c:INT123_do_layer3():1776] error: part2_3_length (1600) too large for available bit count (1568)\n",
            "[src/libmpg123/layer3.c:INT123_do_layer3():1776] error: part2_3_length (2016) too large for available bit count (1568)\n",
            "[src/libmpg123/layer3.c:INT123_do_layer3():1776] error: part2_3_length (2496) too large for available bit count (1568)\n",
            "[src/libmpg123/layer3.c:INT123_do_layer3():1776] error: part2_3_length (2368) too large for available bit count (1560)\n",
            "[src/libmpg123/layer3.c:INT123_do_layer3():1776] error: part2_3_length (2592) too large for available bit count (1568)\n",
            "[src/libmpg123/layer3.c:INT123_do_layer3():1776] error: part2_3_length (1696) too large for available bit count (1560)\n",
            "[src/libmpg123/layer3.c:INT123_do_layer3():1776] error: part2_3_length (1600) too large for available bit count (1568)\n",
            "[src/libmpg123/layer3.c:INT123_do_layer3():1776] error: part2_3_length (1792) too large for available bit count (1568)\n",
            "[src/libmpg123/layer3.c:INT123_do_layer3():1776] error: part2_3_length (1632) too large for available bit count (1568)\n",
            "[src/libmpg123/layer3.c:INT123_do_layer3():1776] error: part2_3_length (1696) too large for available bit count (1560)\n",
            "[src/libmpg123/layer3.c:INT123_do_layer3():1776] error: part2_3_length (1696) too large for available bit count (1568)\n",
            "[src/libmpg123/layer3.c:INT123_do_layer3():1776] error: part2_3_length (1952) too large for available bit count (1568)\n",
            "[src/libmpg123/layer3.c:INT123_do_layer3():1776] error: part2_3_length (1568) too large for available bit count (1560)\n",
            "[src/libmpg123/layer3.c:INT123_do_layer3():1776] error: part2_3_length (1728) too large for available bit count (1568)\n",
            "[src/libmpg123/layer3.c:INT123_do_layer3():1776] error: part2_3_length (1568) too large for available bit count (1560)\n",
            "[src/libmpg123/layer3.c:INT123_do_layer3():1776] error: part2_3_length (1664) too large for available bit count (1568)\n",
            "[src/libmpg123/layer3.c:INT123_do_layer3():1776] error: part2_3_length (2464) too large for available bit count (1568)\n",
            "[src/libmpg123/layer3.c:INT123_do_layer3():1776] error: part2_3_length (1664) too large for available bit count (1568)\n",
            "[src/libmpg123/layer3.c:INT123_do_layer3():1776] error: part2_3_length (1888) too large for available bit count (1568)\n"
          ]
        },
        {
          "name": "stdout",
          "output_type": "stream",
          "text": [
            "Epoch 1/10: Decoder Loss: 0.2938, Encoder Loss: 0.5163\n"
          ]
        },
        {
          "name": "stderr",
          "output_type": "stream",
          "text": [
            "[src/libmpg123/layer3.c:INT123_do_layer3():1776] error: part2_3_length (2688) too large for available bit count (1568)\n",
            "[src/libmpg123/layer3.c:INT123_do_layer3():1776] error: part2_3_length (1632) too large for available bit count (1560)\n",
            "[src/libmpg123/layer3.c:INT123_do_layer3():1776] error: part2_3_length (2112) too large for available bit count (1568)\n",
            "[src/libmpg123/layer3.c:INT123_do_layer3():1776] error: part2_3_length (2176) too large for available bit count (1568)\n",
            "[src/libmpg123/layer3.c:INT123_do_layer3():1776] error: part2_3_length (1888) too large for available bit count (1568)\n",
            "[src/libmpg123/layer3.c:INT123_do_layer3():1776] error: part2_3_length (1600) too large for available bit count (1568)\n",
            "[src/libmpg123/layer3.c:INT123_do_layer3():1776] error: part2_3_length (1600) too large for available bit count (1568)\n",
            "[src/libmpg123/layer3.c:INT123_do_layer3():1776] error: part2_3_length (2720) too large for available bit count (1568)\n",
            "[src/libmpg123/layer3.c:INT123_do_layer3():1776] error: part2_3_length (1952) too large for available bit count (1568)\n",
            "[src/libmpg123/layer3.c:INT123_do_layer3():1776] error: part2_3_length (1600) too large for available bit count (1568)\n",
            "[src/libmpg123/layer3.c:INT123_do_layer3():1776] error: part2_3_length (1664) too large for available bit count (1568)\n",
            "[src/libmpg123/layer3.c:INT123_do_layer3():1776] error: part2_3_length (1696) too large for available bit count (1560)\n",
            "[src/libmpg123/layer3.c:INT123_do_layer3():1776] error: part2_3_length (1728) too large for available bit count (1568)\n",
            "[src/libmpg123/layer3.c:INT123_do_layer3():1776] error: part2_3_length (2016) too large for available bit count (1568)\n",
            "[src/libmpg123/layer3.c:INT123_do_layer3():1776] error: part2_3_length (1600) too large for available bit count (1568)\n",
            "[src/libmpg123/layer3.c:INT123_do_layer3():1776] error: part2_3_length (1664) too large for available bit count (1568)\n"
          ]
        },
        {
          "ename": "KeyboardInterrupt",
          "evalue": "",
          "output_type": "error",
          "traceback": [
            "\u001b[0;31m---------------------------------------------------------------------------\u001b[0m",
            "\u001b[0;31mKeyboardInterrupt\u001b[0m                         Traceback (most recent call last)",
            "Cell \u001b[0;32mIn[9], line 51\u001b[0m\n\u001b[1;32m     48\u001b[0m \t\t\u001b[38;5;28mprint\u001b[39m(\u001b[38;5;124mf\u001b[39m\u001b[38;5;124m\"\u001b[39m\u001b[38;5;124mEpoch \u001b[39m\u001b[38;5;132;01m{\u001b[39;00mepoch\u001b[38;5;241m+\u001b[39m\u001b[38;5;241m1\u001b[39m\u001b[38;5;132;01m}\u001b[39;00m\u001b[38;5;124m/\u001b[39m\u001b[38;5;132;01m{\u001b[39;00mnum_epochs\u001b[38;5;132;01m}\u001b[39;00m\u001b[38;5;124m: Decoder Loss: \u001b[39m\u001b[38;5;132;01m{\u001b[39;00mavg_dec_loss\u001b[38;5;132;01m:\u001b[39;00m\u001b[38;5;124m.4f\u001b[39m\u001b[38;5;132;01m}\u001b[39;00m\u001b[38;5;124m, Encoder Loss: \u001b[39m\u001b[38;5;132;01m{\u001b[39;00mavg_enc_loss\u001b[38;5;132;01m:\u001b[39;00m\u001b[38;5;124m.4f\u001b[39m\u001b[38;5;132;01m}\u001b[39;00m\u001b[38;5;124m\"\u001b[39m)\n\u001b[1;32m     50\u001b[0m \u001b[38;5;66;03m# Train the Models with the fixed function\u001b[39;00m\n\u001b[0;32m---> 51\u001b[0m \u001b[43mfixed_train\u001b[49m\u001b[43m(\u001b[49m\u001b[43mencoder\u001b[49m\u001b[43m,\u001b[49m\u001b[43m \u001b[49m\u001b[43mdecoder\u001b[49m\u001b[43m,\u001b[49m\u001b[43m \u001b[49m\u001b[43mdataloader\u001b[49m\u001b[43m,\u001b[49m\u001b[43m \u001b[49m\u001b[43mdevice\u001b[49m\u001b[43m,\u001b[49m\u001b[43m \u001b[49m\u001b[43mnum_epochs\u001b[49m\u001b[38;5;241;43m=\u001b[39;49m\u001b[38;5;241;43m10\u001b[39;49m\u001b[43m)\u001b[49m\n",
            "Cell \u001b[0;32mIn[9], line 31\u001b[0m, in \u001b[0;36mfixed_train\u001b[0;34m(encoder, decoder, dataloader, device, num_epochs)\u001b[0m\n\u001b[1;32m     29\u001b[0m loss_watermarked \u001b[38;5;241m=\u001b[39m criterion(pred_watermarked, torch\u001b[38;5;241m.\u001b[39mones(batch_size, \u001b[38;5;241m1\u001b[39m)\u001b[38;5;241m.\u001b[39mto(device))\n\u001b[1;32m     30\u001b[0m loss_dec \u001b[38;5;241m=\u001b[39m (loss_original \u001b[38;5;241m+\u001b[39m loss_watermarked) \u001b[38;5;241m/\u001b[39m \u001b[38;5;241m2\u001b[39m\n\u001b[0;32m---> 31\u001b[0m \u001b[43mloss_dec\u001b[49m\u001b[38;5;241;43m.\u001b[39;49m\u001b[43mbackward\u001b[49m\u001b[43m(\u001b[49m\u001b[43mretain_graph\u001b[49m\u001b[38;5;241;43m=\u001b[39;49m\u001b[38;5;28;43;01mTrue\u001b[39;49;00m\u001b[43m)\u001b[49m  \u001b[38;5;66;03m# Added retain_graph=True to keep computation graph\u001b[39;00m\n\u001b[1;32m     32\u001b[0m optimizer_dec\u001b[38;5;241m.\u001b[39mstep()\n\u001b[1;32m     34\u001b[0m \u001b[38;5;66;03m# Train Encoder\u001b[39;00m\n",
            "File \u001b[0;32m~/Documents/course/Semester 2 /Speech Audio/Project/venv/lib/python3.10/site-packages/torch/_tensor.py:626\u001b[0m, in \u001b[0;36mTensor.backward\u001b[0;34m(self, gradient, retain_graph, create_graph, inputs)\u001b[0m\n\u001b[1;32m    616\u001b[0m \u001b[38;5;28;01mif\u001b[39;00m has_torch_function_unary(\u001b[38;5;28mself\u001b[39m):\n\u001b[1;32m    617\u001b[0m     \u001b[38;5;28;01mreturn\u001b[39;00m handle_torch_function(\n\u001b[1;32m    618\u001b[0m         Tensor\u001b[38;5;241m.\u001b[39mbackward,\n\u001b[1;32m    619\u001b[0m         (\u001b[38;5;28mself\u001b[39m,),\n\u001b[0;32m   (...)\u001b[0m\n\u001b[1;32m    624\u001b[0m         inputs\u001b[38;5;241m=\u001b[39minputs,\n\u001b[1;32m    625\u001b[0m     )\n\u001b[0;32m--> 626\u001b[0m \u001b[43mtorch\u001b[49m\u001b[38;5;241;43m.\u001b[39;49m\u001b[43mautograd\u001b[49m\u001b[38;5;241;43m.\u001b[39;49m\u001b[43mbackward\u001b[49m\u001b[43m(\u001b[49m\n\u001b[1;32m    627\u001b[0m \u001b[43m    \u001b[49m\u001b[38;5;28;43mself\u001b[39;49m\u001b[43m,\u001b[49m\u001b[43m \u001b[49m\u001b[43mgradient\u001b[49m\u001b[43m,\u001b[49m\u001b[43m \u001b[49m\u001b[43mretain_graph\u001b[49m\u001b[43m,\u001b[49m\u001b[43m \u001b[49m\u001b[43mcreate_graph\u001b[49m\u001b[43m,\u001b[49m\u001b[43m \u001b[49m\u001b[43minputs\u001b[49m\u001b[38;5;241;43m=\u001b[39;49m\u001b[43minputs\u001b[49m\n\u001b[1;32m    628\u001b[0m \u001b[43m\u001b[49m\u001b[43m)\u001b[49m\n",
            "File \u001b[0;32m~/Documents/course/Semester 2 /Speech Audio/Project/venv/lib/python3.10/site-packages/torch/autograd/__init__.py:347\u001b[0m, in \u001b[0;36mbackward\u001b[0;34m(tensors, grad_tensors, retain_graph, create_graph, grad_variables, inputs)\u001b[0m\n\u001b[1;32m    342\u001b[0m     retain_graph \u001b[38;5;241m=\u001b[39m create_graph\n\u001b[1;32m    344\u001b[0m \u001b[38;5;66;03m# The reason we repeat the same comment below is that\u001b[39;00m\n\u001b[1;32m    345\u001b[0m \u001b[38;5;66;03m# some Python versions print out the first line of a multi-line function\u001b[39;00m\n\u001b[1;32m    346\u001b[0m \u001b[38;5;66;03m# calls in the traceback and some print out the last line\u001b[39;00m\n\u001b[0;32m--> 347\u001b[0m \u001b[43m_engine_run_backward\u001b[49m\u001b[43m(\u001b[49m\n\u001b[1;32m    348\u001b[0m \u001b[43m    \u001b[49m\u001b[43mtensors\u001b[49m\u001b[43m,\u001b[49m\n\u001b[1;32m    349\u001b[0m \u001b[43m    \u001b[49m\u001b[43mgrad_tensors_\u001b[49m\u001b[43m,\u001b[49m\n\u001b[1;32m    350\u001b[0m \u001b[43m    \u001b[49m\u001b[43mretain_graph\u001b[49m\u001b[43m,\u001b[49m\n\u001b[1;32m    351\u001b[0m \u001b[43m    \u001b[49m\u001b[43mcreate_graph\u001b[49m\u001b[43m,\u001b[49m\n\u001b[1;32m    352\u001b[0m \u001b[43m    \u001b[49m\u001b[43minputs\u001b[49m\u001b[43m,\u001b[49m\n\u001b[1;32m    353\u001b[0m \u001b[43m    \u001b[49m\u001b[43mallow_unreachable\u001b[49m\u001b[38;5;241;43m=\u001b[39;49m\u001b[38;5;28;43;01mTrue\u001b[39;49;00m\u001b[43m,\u001b[49m\n\u001b[1;32m    354\u001b[0m \u001b[43m    \u001b[49m\u001b[43maccumulate_grad\u001b[49m\u001b[38;5;241;43m=\u001b[39;49m\u001b[38;5;28;43;01mTrue\u001b[39;49;00m\u001b[43m,\u001b[49m\n\u001b[1;32m    355\u001b[0m \u001b[43m\u001b[49m\u001b[43m)\u001b[49m\n",
            "File \u001b[0;32m~/Documents/course/Semester 2 /Speech Audio/Project/venv/lib/python3.10/site-packages/torch/autograd/graph.py:823\u001b[0m, in \u001b[0;36m_engine_run_backward\u001b[0;34m(t_outputs, *args, **kwargs)\u001b[0m\n\u001b[1;32m    821\u001b[0m     unregister_hooks \u001b[38;5;241m=\u001b[39m _register_logging_hooks_on_whole_graph(t_outputs)\n\u001b[1;32m    822\u001b[0m \u001b[38;5;28;01mtry\u001b[39;00m:\n\u001b[0;32m--> 823\u001b[0m     \u001b[38;5;28;01mreturn\u001b[39;00m \u001b[43mVariable\u001b[49m\u001b[38;5;241;43m.\u001b[39;49m\u001b[43m_execution_engine\u001b[49m\u001b[38;5;241;43m.\u001b[39;49m\u001b[43mrun_backward\u001b[49m\u001b[43m(\u001b[49m\u001b[43m  \u001b[49m\u001b[38;5;66;43;03m# Calls into the C++ engine to run the backward pass\u001b[39;49;00m\n\u001b[1;32m    824\u001b[0m \u001b[43m        \u001b[49m\u001b[43mt_outputs\u001b[49m\u001b[43m,\u001b[49m\u001b[43m \u001b[49m\u001b[38;5;241;43m*\u001b[39;49m\u001b[43margs\u001b[49m\u001b[43m,\u001b[49m\u001b[43m \u001b[49m\u001b[38;5;241;43m*\u001b[39;49m\u001b[38;5;241;43m*\u001b[39;49m\u001b[43mkwargs\u001b[49m\n\u001b[1;32m    825\u001b[0m \u001b[43m    \u001b[49m\u001b[43m)\u001b[49m  \u001b[38;5;66;03m# Calls into the C++ engine to run the backward pass\u001b[39;00m\n\u001b[1;32m    826\u001b[0m \u001b[38;5;28;01mfinally\u001b[39;00m:\n\u001b[1;32m    827\u001b[0m     \u001b[38;5;28;01mif\u001b[39;00m attach_logging_hooks:\n",
            "\u001b[0;31mKeyboardInterrupt\u001b[0m: "
          ]
        }
      ],
      "source": [
        "# Set Device and Initialize Models\n",
        "device = torch.device(\"cuda\" if torch.cuda.is_available() else \"cpu\")\n",
        "encoder = Encoder(96000).to(device)  # Input size fixed to 6 seconds at 16kHz\n",
        "decoder = Decoder(96000).to(device)\n",
        "\n",
        "# Train the Models\n",
        "train(encoder, decoder, dataloader, device, num_epochs=10)"
      ]
    },
    {
      "cell_type": "code",
      "execution_count": null,
      "metadata": {
        "id": "9ycig62p60M1"
      },
      "outputs": [],
      "source": [
        "# Save Models (Optional)\n",
        "torch.save(encoder.state_dict(), \"drive/MyDrive/encoder.pth\")\n",
        "torch.save(decoder.state_dict(), \"drive/MyDrive/decoder.pth\")"
      ]
    }
  ],
  "metadata": {
    "accelerator": "GPU",
    "colab": {
      "gpuType": "T4",
      "provenance": []
    },
    "kernelspec": {
      "display_name": "venv",
      "language": "python",
      "name": "python3"
    },
    "language_info": {
      "codemirror_mode": {
        "name": "ipython",
        "version": 3
      },
      "file_extension": ".py",
      "mimetype": "text/x-python",
      "name": "python",
      "nbconvert_exporter": "python",
      "pygments_lexer": "ipython3",
      "version": "3.10.16"
    }
  },
  "nbformat": 4,
  "nbformat_minor": 0
}
